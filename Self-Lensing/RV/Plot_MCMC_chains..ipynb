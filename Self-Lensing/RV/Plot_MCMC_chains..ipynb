{
 "cells": [
  {
   "cell_type": "code",
   "execution_count": 1,
   "metadata": {},
   "outputs": [],
   "source": [
    "import numpy as np\n",
    "import matplotlib.pyplot as plt\n",
    "import emcee\n",
    "import corner\n",
    "import csv\n",
    "import pandas as pd\n",
    "import matplotlib\n",
    "import matplotlib.gridspec as gridspec"
   ]
  },
  {
   "cell_type": "code",
   "execution_count": 2,
   "metadata": {},
   "outputs": [
    {
     "ename": "NameError",
     "evalue": "name 'p_all' is not defined",
     "output_type": "error",
     "traceback": [
      "\u001b[0;31m---------------------------------------------------------------------------\u001b[0m",
      "\u001b[0;31mNameError\u001b[0m                                 Traceback (most recent call last)",
      "\u001b[0;32m<ipython-input-2-9bc2d9de4497>\u001b[0m in \u001b[0;36m<module>\u001b[0;34m\u001b[0m\n\u001b[0;32m----> 1\u001b[0;31m \u001b[0mkic\u001b[0m \u001b[0;34m=\u001b[0m \u001b[0mp_all\u001b[0m\u001b[0;34m[\u001b[0m\u001b[0;36m0\u001b[0m\u001b[0;34m]\u001b[0m\u001b[0;34m[\u001b[0m\u001b[0;36m0\u001b[0m\u001b[0;34m]\u001b[0m\u001b[0;34m\u001b[0m\u001b[0;34m\u001b[0m\u001b[0m\n\u001b[0m\u001b[1;32m      2\u001b[0m \u001b[0mfilename\u001b[0m \u001b[0;34m=\u001b[0m \u001b[0;34m'chain_test_'\u001b[0m \u001b[0;34m+\u001b[0m \u001b[0mkic\u001b[0m \u001b[0;34m+\u001b[0m \u001b[0;34m'.csv'\u001b[0m\u001b[0;34m\u001b[0m\u001b[0;34m\u001b[0m\u001b[0m\n\u001b[1;32m      3\u001b[0m \u001b[0mprint\u001b[0m\u001b[0;34m(\u001b[0m\u001b[0;34m''\u001b[0m\u001b[0;34m)\u001b[0m\u001b[0;34m\u001b[0m\u001b[0;34m\u001b[0m\u001b[0m\n\u001b[1;32m      4\u001b[0m \u001b[0mprint\u001b[0m\u001b[0;34m(\u001b[0m\u001b[0;34m''\u001b[0m\u001b[0;34m)\u001b[0m\u001b[0;34m\u001b[0m\u001b[0;34m\u001b[0m\u001b[0m\n\u001b[1;32m      5\u001b[0m \u001b[0mprint\u001b[0m\u001b[0;34m(\u001b[0m\u001b[0;34m''\u001b[0m\u001b[0;34m)\u001b[0m\u001b[0;34m\u001b[0m\u001b[0;34m\u001b[0m\u001b[0m\n",
      "\u001b[0;31mNameError\u001b[0m: name 'p_all' is not defined"
     ]
    }
   ],
   "source": [
    "kic = p_all[0][0]\n",
    "filename = 'chain_test_' + kic + '.csv'\n",
    "print('')\n",
    "print('')\n",
    "print('')\n",
    "print(kic)\n",
    "print('--------')\n",
    "x = np.loadtxt(filename)\n",
    "# split the metadata from the chain results\n",
    "iteration = x[:, 0]\n",
    "walkers = x[:, 1]\n",
    "uwalkers = np.unique(walkers)\n",
    "loglike = x[:, 2]\n",
    "x = x[:, 3:]\n",
    "labels = ['$P$ [days]', '$t_{tran}$ [BJD - 2454833]', '$\\sqrt{e} cos\\omega$', '$\\sqrt{e} sin\\omega$',\n",
    "'$K$ [km/s]', '$\\gamma [km/s]$', '$\\sigma_{j} [km/s]$']\n",
    "\n",
    "\n",
    "fig, ax = plt.subplots(7,1, figsize = (10,15), sharex = True)\n",
    "ax[6].set_xlabel('Link number')\n",
    "ax[0].set_ylabel(labels[0])\n",
    "ax[1].set_ylabel(labels[1])\n",
    "ax[2].set_ylabel(labels[2])\n",
    "ax[3].set_ylabel(labels[3])\n",
    "ax[4].set_ylabel(labels[4])\n",
    "ax[5].set_ylabel(labels[5])\n",
    "ax[6].set_ylabel(labels[6])\n",
    "ax[0].plot(x[:, 0]);\n",
    "ax[1].plot(x[:, 1]);\n",
    "ax[2].plot(x[:, 2]);\n",
    "ax[3].plot(x[:, 3]);\n",
    "ax[4].plot(x[:, 4]);\n",
    "ax[5].plot(x[:, 5]);\n",
    "ax[6].plot(x[:, 6]);\n",
    "plt.show()"
   ]
  },
  {
   "cell_type": "code",
   "execution_count": null,
   "metadata": {},
   "outputs": [],
   "source": []
  }
 ],
 "metadata": {
  "kernelspec": {
   "display_name": "Python 3",
   "language": "python",
   "name": "python3"
  },
  "language_info": {
   "codemirror_mode": {
    "name": "ipython",
    "version": 3
   },
   "file_extension": ".py",
   "mimetype": "text/x-python",
   "name": "python",
   "nbconvert_exporter": "python",
   "pygments_lexer": "ipython3",
   "version": "3.6.8"
  }
 },
 "nbformat": 4,
 "nbformat_minor": 2
}
