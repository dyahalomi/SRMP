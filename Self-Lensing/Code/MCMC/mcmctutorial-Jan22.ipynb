{
 "cells": [
  {
   "cell_type": "markdown",
   "metadata": {},
   "source": [
    "This notebook is designed to teach the basics of Markov Chain Monte Carlo (or MCMC), an extremely useful method for determining best-fit paramters and uncertainties from data. This tutorial will create a toy problem and walk through the process of writing a simple MCMC sampling algorithm to determine credible values of the parameters based on the data at hand.\n",
    "\n",
    "We will start by importing two handy packages: numpy for array mathematics and a variety of other useful tools, and matplotlib to help us visualize the problem and what the MCMC is doing. "
   ]
  },
  {
   "cell_type": "code",
   "execution_count": 1,
   "metadata": {},
   "outputs": [],
   "source": [
    "import numpy as np\n",
    "import matplotlib.pyplot as plt"
   ]
  },
  {
   "cell_type": "markdown",
   "metadata": {},
   "source": [
    "Now, let's create a toy dataset. Let's generate data with a very simple model (a straight line), with only two parameters: a slope and a y-intercept. In particular, the equation of our line is: \n",
    "\n",
    "y = slope * x + intercept"
   ]
  },
  {
   "cell_type": "code",
   "execution_count": 2,
   "metadata": {},
   "outputs": [
    {
     "name": "stdout",
     "output_type": "stream",
     "text": [
      "[ 0.          0.34482759  0.68965517  1.03448276  1.37931034  1.72413793\n",
      "  2.06896552  2.4137931   2.75862069  3.10344828  3.44827586  3.79310345\n",
      "  4.13793103  4.48275862  4.82758621  5.17241379  5.51724138  5.86206897\n",
      "  6.20689655  6.55172414  6.89655172  7.24137931  7.5862069   7.93103448\n",
      "  8.27586207  8.62068966  8.96551724  9.31034483  9.65517241 10.        ]\n"
     ]
    }
   ],
   "source": [
    "x = np.linspace(0, 10, 30)# generate an evenly sampled X axis (not strictly necessary for this problem). \n",
    "print(x)"
   ]
  },
  {
   "cell_type": "code",
   "execution_count": 3,
   "metadata": {},
   "outputs": [],
   "source": [
    "slope_true = 3.0\n",
    "intercept_true = 1.5\n",
    "uncertainty_true = 1 # These parameters are the \"truth\" that our MCMC will try to recover.  "
   ]
  },
  {
   "cell_type": "code",
   "execution_count": 4,
   "metadata": {},
   "outputs": [],
   "source": [
    "y = slope_true * x + intercept_true #Calculate the y values based on the linear model\n",
    "y = y + np.random.normal(0, uncertainty_true, len(x)) #and add some random noise with\n",
    "#a Gaussian distribution centered on 0, with a standard deviation of 1. "
   ]
  },
  {
   "cell_type": "code",
   "execution_count": 5,
   "metadata": {},
   "outputs": [
    {
     "data": {
      "image/png": "[encoded data removed]",
      "text/plain": [
       "<Figure size 1152x576 with 1 Axes>"
      ]
     },
     "metadata": {
      "needs_background": "light"
     },
     "output_type": "display_data"
    }
   ],
   "source": [
    "fig, ax = plt.subplots(figsize=(16, 8))\n",
    "\n",
    "plt.errorbar(x, y, yerr = np.ones_like(y) * uncertainty_true, fmt = 'o')\n",
    "ax.set_ylabel('Y');\n",
    "ax.set_xlabel('X');\n",
    "\n"
   ]
  },
  {
   "cell_type": "code",
   "execution_count": null,
   "metadata": {},
   "outputs": [],
   "source": []
  }
 ],
 "metadata": {
  "kernelspec": {
   "display_name": "Python 3",
   "language": "python",
   "name": "python3"
  },
  "language_info": {
   "codemirror_mode": {
    "name": "ipython",
    "version": 3
   },
   "file_extension": ".py",
   "mimetype": "text/x-python",
   "name": "python",
   "nbconvert_exporter": "python",
   "pygments_lexer": "ipython3",
   "version": "3.6.8"
  }
 },
 "nbformat": 4,
 "nbformat_minor": 2
}
